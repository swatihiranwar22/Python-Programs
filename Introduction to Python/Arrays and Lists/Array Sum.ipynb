{
 "cells": [
  {
   "cell_type": "code",
   "execution_count": null,
   "id": "f14d0277",
   "metadata": {},
   "outputs": [],
   "source": [
    "Given an array of length N, you need to find and print the sum of all elements of the array.\n",
    "Input Format :\n",
    "Line 1 : An Integer N i.e. size of array\n",
    "Line 2 : N integers which are elements of the array, separated by spaces\n",
    "Output Format :\n",
    "Sum\n",
    "Constraints :\n",
    "1 <= N <= 10^6\n",
    "Sample Input :\n",
    "3\n",
    "9 8 9\n",
    "Sample Output :\n",
    "26"
   ]
  },
  {
   "cell_type": "code",
   "execution_count": null,
   "id": "827295c3",
   "metadata": {},
   "outputs": [],
   "source": [
    "n=int(input())\n",
    "li=[ int(x) for x in input().split( )]\n",
    "\n",
    "\n",
    "sum=0\n",
    "for i in range(n):\n",
    "    sum= sum+li[i]\n",
    "print(sum)"
   ]
  }
 ],
 "metadata": {
  "kernelspec": {
   "display_name": "Python 3 (ipykernel)",
   "language": "python",
   "name": "python3"
  },
  "language_info": {
   "codemirror_mode": {
    "name": "ipython",
    "version": 3
   },
   "file_extension": ".py",
   "mimetype": "text/x-python",
   "name": "python",
   "nbconvert_exporter": "python",
   "pygments_lexer": "ipython3",
   "version": "3.10.0"
  }
 },
 "nbformat": 4,
 "nbformat_minor": 5
}
