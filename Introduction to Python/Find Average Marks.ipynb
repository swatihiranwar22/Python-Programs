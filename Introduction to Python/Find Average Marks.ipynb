{
 "cells": [
  {
   "cell_type": "code",
   "execution_count": null,
   "id": "b5ba8b00",
   "metadata": {},
   "outputs": [],
   "source": [
    "Write a program to input marks of three tests of a student (all integers). Then calculate and print the average of all test marks.\n",
    "Input format :\n",
    "3 Test marks (in different lines)\n",
    "Output format :\n",
    "Average \n",
    "Sample Input 1 :\n",
    "3 \n",
    "4 \n",
    "6\n",
    "Sample Output 1 :\n",
    "4.333333333333333\n",
    "Sample Input 2 :\n",
    "5 \n",
    "10 \n",
    "5\n",
    "Sample Output 2 :\n",
    "6.666666666666667"
   ]
  },
  {
   "cell_type": "code",
   "execution_count": null,
   "id": "66c4684b",
   "metadata": {},
   "outputs": [],
   "source": [
    "sub1=int(input())\n",
    "sub2=int(input())\n",
    "sub3= int(input())\n",
    "\n",
    "sum=sub1+sub2+sub3\n",
    "avg=sum/3\n",
    "print(avg)"
   ]
  }
 ],
 "metadata": {
  "kernelspec": {
   "display_name": "Python 3 (ipykernel)",
   "language": "python",
   "name": "python3"
  },
  "language_info": {
   "codemirror_mode": {
    "name": "ipython",
    "version": 3
   },
   "file_extension": ".py",
   "mimetype": "text/x-python",
   "name": "python",
   "nbconvert_exporter": "python",
   "pygments_lexer": "ipython3",
   "version": "3.10.0"
  }
 },
 "nbformat": 4,
 "nbformat_minor": 5
}
